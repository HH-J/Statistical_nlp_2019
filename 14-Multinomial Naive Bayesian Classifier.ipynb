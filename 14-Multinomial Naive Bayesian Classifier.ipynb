{
 "cells": [
  {
   "cell_type": "markdown",
   "metadata": {},
   "source": [
    "## Multinomial Naive Bayes Classifier\n",
    "\n",
    "### The general term Naive Bayes refers the strong independence assumptions in the model. A Naive Bayes model assumes that each of the features it uses are conditionally independent of one another given some class. The term Multinomial Naive Bayes simply lets us know that each $p(f\\space |\\space c)$ is a multinomial distribution, rather than some other distribution. This works well for data which can easily be turned into counts, such as word counts in text."
   ]
  },
  {
   "cell_type": "markdown",
   "metadata": {},
   "source": [
    "                                           \n",
    "### Environment Setup"
   ]
  },
  {
   "cell_type": "code",
   "execution_count": 1,
   "metadata": {},
   "outputs": [],
   "source": [
    "import re\n",
    "import nltk\n",
    "import numpy as np\n",
    "import pandas as pd\n",
    "import pickle as pkl\n",
    "from sklearn.feature_extraction.text import CountVectorizer\n",
    "from sklearn.naive_bayes import MultinomialNB\n",
    "from sklearn.model_selection import KFold\n",
    "from sklearn.metrics import roc_curve, auc\n",
    "from nltk.corpus import stopwords\n",
    "%matplotlib inline \n",
    "import matplotlib.pyplot as plt"
   ]
  },
  {
   "cell_type": "markdown",
   "metadata": {},
   "source": [
    "### Syntatic NLP Processing\n",
    "\n",
    "#### We will define some Python functions that will perform some syntatic work on our corpus. "
   ]
  },
  {
   "cell_type": "code",
   "execution_count": 2,
   "metadata": {},
   "outputs": [],
   "source": [
    "def tokenize(text):\n",
    "    tokens = [word for sent in nltk.sent_tokenize(text) for word in nltk.word_tokenize(sent)]\n",
    "    filtered_tokens = [ token for token in tokens if re.search('(^[a-zA-Z]+$)', token) ]\n",
    "    return filtered_tokens\n",
    "\n",
    "cachedStopWords = stopwords.words(\"english\") + ['year', 'old', 'man', 'woman', 'ap', 'am', 'pm', 'portable', 'pa', 'lat', 'admitting', 'diagnosis', 'lateral']\n"
   ]
  },
  {
   "cell_type": "markdown",
   "metadata": {},
   "source": [
    "### Retrieving our Corpus\n",
    "\n",
    "#### Let's pull in our corpus that we had serialized out to disk.  "
   ]
  },
  {
   "cell_type": "code",
   "execution_count": 3,
   "metadata": {},
   "outputs": [],
   "source": [
    "file = open('differential-corpus.pkl','rb')\n",
    "corpus = pkl.load(file)\n",
    "file.close()\n",
    "corpusList = list(corpus.values())\n",
    "labels = list(corpus.keys())"
   ]
  },
  {
   "cell_type": "markdown",
   "metadata": {},
   "source": [
    "### Generate Document-Term Frequency Counts\n",
    "\n",
    "#### In this step we tokenize our text and remove stop words in addition to generating our frequency counts.\n",
    "\n",
    "#### 1) How many documents are we working with and how many features (unigrams & bigrams)?\n",
    "\n",
    "#### 2) Can you figure out what max_df and min_df is doing to our feature count?"
   ]
  },
  {
   "cell_type": "code",
   "execution_count": 4,
   "metadata": {},
   "outputs": [
    {
     "name": "stdout",
     "output_type": "stream",
     "text": [
      "(1500, 773)\n",
      "\n",
      "['abd', 'abdomen', 'abdomen contrast', 'abdomen pelvis', 'abdominal', 'abnormalities', 'acquired', 'acute', 'acute sob', 'addition', 'adjacent', 'administered', 'administration', 'adrenal', 'adrenal glands', 'air', 'air space', 'airspace', 'allowing', 'along', 'also', 'also noted', 'although', 'alveolar', 'amount', 'amt', 'amt final', 'amt underlying', 'angle', 'anterior', 'aorta', 'aortic', 'aortic stenosis', 'apex', 'apical', 'apices', 'appear', 'appearance', 'appears', 'approximately', 'approximately cm', 'area', 'areas', 'arrest', 'arteries', 'artery', 'ascites', 'aspect', 'aspiration', 'assess', 'associated', 'atelectasis', 'atelectasis left', 'atrial', 'atrium', 'attenuation', 'available', 'axial', 'axial images', 'axillary', 'base', 'bases', 'basilar', 'bibasilar', 'bilateral', 'bilateral pleural', 'bilateral pulmonary', 'bilaterally', 'bladder', 'bleed', 'blunting', 'bone', 'bone windows', 'bowel', 'breath', 'c', 'ca', 'cabg', 'cad', 'cad chf', 'calcification', 'calcifications', 'calcified', 'cancer', 'cardiac', 'cardiac mediastinal', 'cardiac silhouette', 'cardiomediastinal', 'cardiomegaly', 'carina', 'catheter', 'catheter terminates', 'catheter tip', 'cc', 'cc optiray', 'central', 'central line', 'central venous', 'change', 'change final', 'changed', 'changes', 'check', 'chest clip', 'chest compared', 'chest comparison', 'chest contrast', 'chest ct', 'chest different', 'chest history', 'chest indication', 'chest obtained', 'chest pain', 'chest physician', 'chest port', 'chest radiograph', 'chest single', 'chest w', 'chf', 'chf final', 'chf reason', 'chf underlying', 'chronic', 'clear', 'clinical', 'clinical indication', 'clips', 'cm', 'cm carina', 'collapse', 'colon', 'compared', 'compared previous', 'compared prior', 'comparison', 'comparison chest', 'comparison findings', 'comparison made', 'comparisons', 'condition acute', 'condition cad', 'condition chf', 'condition copd', 'condition critical', 'condition reason', 'condition sob', 'condition yo', 'confirm', 'congestion', 'congestive', 'congestive heart', 'consistent', 'consolidation', 'consolidation left', 'consolidation right', 'consolidations', 'cont', 'contiguous', 'contiguous axial', 'continued', 'contour', 'contours', 'contours stable', 'contours unchanged', 'contraindications', 'contraindications iv', 'contrast', 'contrast administered', 'contrast cc', 'contrast clip', 'contrast ct', 'contrast final', 'contrast optiray', 'contrast reason', 'copd', 'coronary', 'coronary artery', 'costophrenic', 'costophrenic angle', 'cough', 'could', 'could represent', 'critical', 'ct', 'ct abdomen', 'ct chest', 'ct non', 'ct nonionic', 'ct pelvis', 'cta', 'cxr', 'date ct', 'dated', 'day', 'days', 'decreased', 'defects', 'definite', 'degenerative', 'degenerative changes', 'degree', 'demonstrate', 'demonstrated', 'demonstrates', 'dense', 'density', 'described', 'diaphragm', 'differences', 'different', 'different physician', 'difficult', 'diffuse', 'dilatation', 'discussed', 'disease', 'distal', 'distress', 'dm', 'due', 'dyspnea', 'earlier', 'edema', 'edema aortic', 'edema final', 'edema underlying', 'effusion', 'effusion final', 'effusion impression', 'effusion pneumothorax', 'effusion right', 'effusion underlying', 'effusions', 'effusions right', 'elevated', 'emphysema', 'endotracheal', 'endotracheal tube', 'engorgement', 'enlarged', 'enlargement', 'et', 'et tube', 'etiology', 'ett', 'eval', 'evaluate', 'evaluation', 'evidence', 'evidence pneumothorax', 'exacerbation', 'exam', 'examination assess', 'examination chf', 'examination eval', 'examination evaluate', 'examination please', 'examination yo', 'excluded', 'extensive', 'failure', 'failure underlying', 'female', 'fever', 'field', 'field view', 'filling', 'film', 'films', 'findings', 'findings single', 'first', 'first name', 'fluid', 'focal', 'foley', 'foley catheter', 'following', 'free', 'free fluid', 'gallbladder', 'given', 'glands', 'glass', 'good', 'good position', 'greater', 'greater left', 'grossly', 'ground', 'haziness', 'heart', 'heart enlarged', 'heart failure', 'heart size', 'helically', 'helically acquired', 'hemidiaphragm', 'high', 'hilar', 'hilar contours', 'history', 'hours', 'however', 'hypotension', 'hypoxia', 'hypoxia reason', 'identified', 'identified impression', 'ij', 'image', 'imaged', 'images', 'images obtained', 'imaging', 'impression bilateral', 'impression chest', 'impression evidence', 'impression interval', 'impression persistent', 'improved', 'improvement', 'improving', 'included', 'increase', 'increased', 'increased opacity', 'increasing', 'indication', 'indication history', 'indication status', 'indications', 'infection', 'infectious', 'infectious process', 'infiltrate', 'infiltrate final', 'infiltrates', 'initial', 'initial pre', 'inlet', 'internal', 'internal jugular', 'interstitial', 'interstitial edema', 'interval', 'interval change', 'interval improvement', 'intravenous', 'intravenous contrast', 'intubated', 'intubation', 'ionic', 'ionic contrast', 'ischemic', 'iv', 'iv contrast', 'jugular', 'junction', 'kidney', 'kidneys', 'known', 'l', 'large', 'large right', 'largest', 'last', 'layering', 'lead', 'leads', 'left', 'left base', 'left lower', 'left lung', 'left pleural', 'left retrocardiac', 'left side', 'left sided', 'left subclavian', 'left upper', 'left ventricular', 'lesion', 'lesions', 'less', 'level', 'likely', 'likely represents', 'limited', 'limits', 'line', 'line placement', 'line tip', 'linear', 'lines', 'liver', 'liver spleen', 'lll', 'lobe', 'lobe atelectasis', 'lobe consolidation', 'lobe pneumonia', 'lobes', 'located', 'loculated', 'loops', 'low', 'lower', 'lower lobe', 'lower lobes', 'lower lung', 'lung', 'lung apices', 'lung base', 'lung bases', 'lung volumes', 'lungs', 'lymph', 'lymph nodes', 'lymphadenopathy', 'lytic', 'made', 'made prior', 'main', 'main pulmonary', 'male', 'marked', 'markings', 'mass', 'masses', 'may', 'may represent', 'measures', 'measuring', 'median', 'median sternotomy', 'mediastinal', 'mediastinal contours', 'mediastinal hilar', 'mediastinal lymph', 'mediastinum', 'mi', 'mid', 'middle', 'middle lobe', 'mild', 'mildly', 'minimal', 'mm', 'moderate', 'multifocal', 'multifocal pneumonia', 'multiplanar', 'multiple', 'name', 'name stitle', 'nasogastric', 'nasogastric tube', 'new', 'ng', 'ng tube', 'nodes', 'nodular', 'nodules', 'non', 'non ionic', 'nonionic', 'nonionic contrast', 'normal', 'normal limits', 'normal size', 'note', 'note made', 'noted', 'obstruction', 'obtained', 'obtained lung', 'one', 'opacification', 'opacities', 'opacity', 'opacity left', 'opacity right', 'optiray', 'optiray amt', 'oral', 'osseous', 'osseous structures', 'otherwise', 'overall', 'overlying', 'pacemaker', 'pacer', 'pain', 'pancreas', 'parenchymal', 'partially', 'particularly', 'patchy', 'patent', 'patient', 'pattern', 'pe', 'pelvic', 'pelvis', 'pelvis contrast', 'performed', 'pericardial', 'pericardial effusion', 'perihilar', 'perihilar haziness', 'persistent', 'physician', 'physician initial', 'picc', 'picc line', 'place', 'placed', 'placement', 'placement final', 'please', 'please assess', 'please eval', 'please evaluate', 'pleural', 'pleural effusion', 'pleural effusions', 'pna', 'pneumonia', 'pneumonia chf', 'pneumonia final', 'pneumonia underlying', 'pneumothorax', 'pneumothorax identified', 'pneumothorax impression', 'pneumothorax seen', 'port', 'port line', 'portion', 'portions', 'position', 'positioning', 'possible', 'possibly', 'post', 'posterior', 'posteriorly', 'pre', 'pre number', 'present', 'previous', 'previous study', 'previously', 'prior', 'prior exam', 'prior film', 'prior study', 'probable', 'probably', 'process', 'progression', 'prominence', 'prominent', 'proximal', 'pt', 'ptx', 'pulm', 'pulm edema', 'pulmonary', 'pulmonary artery', 'pulmonary edema', 'pulmonary vascular', 'pulmonary vasculature', 'question', 'r', 'radiograph', 'radiograph chest', 'radiology ct', 'reason assess', 'reason chf', 'reason eval', 'reason evaluate', 'reason please', 'recent', 'recommended', 'redistribution', 'region', 'regions', 'related', 'remain', 'remains', 'removed', 'renal', 'replacement', 'report chest', 'report clinical', 'report cont', 'report history', 'report indication', 'report indications', 'represent', 'representing', 'represents', 'residual', 'resolution', 'resp', 'resp distress', 'respiratory', 'respiratory distress', 'respiratory failure', 'retrocardiac', 'retrocardiac opacity', 'retroperitoneal', 'retroperitoneal bleed', 'rib', 'right', 'right atrium', 'right ij', 'right internal', 'right lower', 'right lung', 'right middle', 'right pleural', 'right subclavian', 'right upper', 'right ventricle', 'rule', 'satisfactory', 'satisfactory position', 'scan', 'scattered', 'secondary', 'seen', 'seen impression', 'seen right', 'seen within', 'several', 'severe', 'severe chf', 'shortness', 'shortness breath', 'shows', 'side', 'sided', 'significant', 'significant change', 'significantly', 'significantly changed', 'silhouette', 'since', 'since prior', 'single', 'single view', 'size', 'slight', 'slightly', 'small', 'small amount', 'small bilateral', 'small bowel', 'small left', 'small pleural', 'small right', 'sob', 'sob reason', 'soft', 'soft tissue', 'somewhat', 'space', 'spine', 'spleen', 'stable', 'stable appearance', 'status', 'status post', 'stenosis', 'stenosis underlying', 'sternotomy', 'stitle', 'stomach', 'structures', 'structures unremarkable', 'studies', 'study', 'subclavian', 'subclavian line', 'suggest', 'suggesting', 'suggestive', 'superimposed', 'superior', 'supine', 'supine chest', 'surgical', 'suspicious', 'suspicious lytic', 'svc', 'symphysis', 'technique', 'technique contiguous', 'technique helically', 'terminates', 'terminating', 'thickening', 'thoracentesis', 'thoracic', 'thoracic aorta', 'thoracic inlet', 'throughout', 'time', 'tiny', 'tip', 'tip right', 'tissue', 'today', 'tortuous', 'tracheostomy', 'tracheostomy tube', 'tube', 'tube placement', 'tube seen', 'tube tip', 'tubes', 'two', 'ultrasound', 'unchanged', 'unchanged impression', 'unchanged position', 'unremarkable', 'unremarkable impression', 'upper', 'upper abdomen', 'upper lobe', 'upper zone', 'upright', 'upright chest', 'used', 'valve', 'vascular', 'vascular congestion', 'vascular engorgement', 'vasculature', 'vein', 'venous', 'venous catheter', 'ventricle', 'ventricular', 'versus', 'vessels', 'view', 'view chest', 'view contrast', 'views', 'visualized', 'volume', 'volumes', 'w', 'w c', 'wall', 'well', 'windows', 'wires', 'within', 'within left', 'within normal', 'within right', 'without', 'without evidence', 'without iv', 'worsening', 'x', 'yo', 'zone', 'zone redistribution']\n",
      "\n"
     ]
    }
   ],
   "source": [
    "cv = CountVectorizer(lowercase=True, max_df=0.80, max_features=None, min_df=0.033,\n",
    "                     ngram_range=(1, 2), preprocessor=None, stop_words=cachedStopWords,\n",
    "                     strip_accents=None, tokenizer=tokenize, vocabulary=None)\n",
    "X = cv.fit_transform(corpusList)\n",
    "print(X.shape)\n",
    "print()\n",
    "lexicon = cv.get_feature_names()\n",
    "print (lexicon)\n",
    "print()"
   ]
  },
  {
   "cell_type": "markdown",
   "metadata": {},
   "source": [
    "### Construct our Classes\n",
    "\n",
    "#### We need to assign a class for each classification. We typically assign numeric values to classes."
   ]
  },
  {
   "cell_type": "code",
   "execution_count": 5,
   "metadata": {},
   "outputs": [],
   "source": [
    "Y = []\n",
    "for key in corpus:        \n",
    "    if (key.startswith('COPD') or key.startswith('CHF')):\n",
    "        Y.append(0)\n",
    "    elif (key.startswith('PNA')):\n",
    "        Y.append(1)\n",
    "Y = np.array(Y)"
   ]
  },
  {
   "cell_type": "markdown",
   "metadata": {},
   "source": [
    "### Let's Run It!\n",
    "\n",
    "#### We will generate models and evaluate the modes using 10-fold cross-validation."
   ]
  },
  {
   "cell_type": "code",
   "execution_count": 6,
   "metadata": {},
   "outputs": [
    {
     "name": "stdout",
     "output_type": "stream",
     "text": [
      "model  0 : Naive Bayes alpha = 0.5\n",
      "   Fold 1 accuracy: 78.67 %\n",
      "   Fold 2 accuracy: 81.33 %\n",
      "   Fold 3 accuracy: 77.33 %\n",
      "   Fold 4 accuracy: 82.00 %\n",
      "   Fold 5 accuracy: 74.00 %\n",
      "   Fold 6 accuracy: 80.00 %\n",
      "   Fold 7 accuracy: 79.33 %\n",
      "   Fold 8 accuracy: 78.00 %\n",
      "   Fold 9 accuracy: 84.00 %\n",
      "   Fold 10 accuracy: 82.67 %\n",
      "     Overall test accuracy: 79.73 %\n",
      "     Overall training accuracy: 80.60 %\n",
      "model  1 : Naive Bayes alpha = 1.0\n",
      "   Fold 1 accuracy: 74.67 %\n",
      "   Fold 2 accuracy: 78.00 %\n",
      "   Fold 3 accuracy: 73.33 %\n",
      "   Fold 4 accuracy: 82.00 %\n",
      "   Fold 5 accuracy: 83.33 %\n",
      "   Fold 6 accuracy: 81.33 %\n",
      "   Fold 7 accuracy: 86.00 %\n",
      "   Fold 8 accuracy: 75.33 %\n",
      "   Fold 9 accuracy: 81.33 %\n",
      "   Fold 10 accuracy: 80.67 %\n",
      "     Overall test accuracy: 79.60 %\n",
      "     Overall training accuracy: 80.80 %\n",
      "model  2 : Naive Bayes alpha = 2.0\n",
      "   Fold 1 accuracy: 81.33 %\n",
      "   Fold 2 accuracy: 72.00 %\n",
      "   Fold 3 accuracy: 78.67 %\n",
      "   Fold 4 accuracy: 79.33 %\n",
      "   Fold 5 accuracy: 75.33 %\n",
      "   Fold 6 accuracy: 83.33 %\n",
      "   Fold 7 accuracy: 82.00 %\n",
      "   Fold 8 accuracy: 78.67 %\n",
      "   Fold 9 accuracy: 84.00 %\n",
      "   Fold 10 accuracy: 80.00 %\n",
      "     Overall test accuracy: 79.47 %\n",
      "     Overall training accuracy: 80.93 %\n",
      "model  3 : Naive Bayes alpha = 3.0\n",
      "   Fold 1 accuracy: 81.33 %\n",
      "   Fold 2 accuracy: 80.00 %\n",
      "   Fold 3 accuracy: 78.67 %\n",
      "   Fold 4 accuracy: 80.00 %\n",
      "   Fold 5 accuracy: 76.00 %\n",
      "   Fold 6 accuracy: 83.33 %\n",
      "   Fold 7 accuracy: 68.67 %\n",
      "   Fold 8 accuracy: 82.00 %\n",
      "   Fold 9 accuracy: 81.33 %\n",
      "   Fold 10 accuracy: 82.00 %\n",
      "     Overall test accuracy: 79.33 %\n",
      "     Overall training accuracy: 80.93 %\n",
      "model  4 : Naive Bayes alpha = 4.0\n",
      "   Fold 1 accuracy: 71.33 %\n",
      "   Fold 2 accuracy: 80.00 %\n",
      "   Fold 3 accuracy: 78.67 %\n",
      "   Fold 4 accuracy: 81.33 %\n",
      "   Fold 5 accuracy: 82.67 %\n",
      "   Fold 6 accuracy: 82.67 %\n",
      "   Fold 7 accuracy: 78.67 %\n",
      "   Fold 8 accuracy: 82.67 %\n",
      "   Fold 9 accuracy: 78.00 %\n",
      "   Fold 10 accuracy: 76.00 %\n",
      "     Overall test accuracy: 79.20 %\n",
      "     Overall training accuracy: 80.87 %\n",
      "model  5 : Naive Bayes alpha = 5.0\n",
      "   Fold 1 accuracy: 78.00 %\n",
      "   Fold 2 accuracy: 81.33 %\n",
      "   Fold 3 accuracy: 80.67 %\n",
      "   Fold 4 accuracy: 81.33 %\n",
      "   Fold 5 accuracy: 77.33 %\n",
      "   Fold 6 accuracy: 81.33 %\n",
      "   Fold 7 accuracy: 79.33 %\n",
      "   Fold 8 accuracy: 78.00 %\n",
      "   Fold 9 accuracy: 74.00 %\n",
      "   Fold 10 accuracy: 86.67 %\n",
      "     Overall test accuracy: 79.80 %\n",
      "     Overall training accuracy: 80.87 %\n"
     ]
    }
   ],
   "source": [
    "results = []\n",
    "cont = []\n",
    "kf = KFold(n_splits=10, shuffle=True)\n",
    "alpha = [0.5, 1.0, 2.0, 3.0, 4.0, 5.0]\n",
    "for a in range(len(alpha)):\n",
    "    fold = 1\n",
    "    truth = []\n",
    "    mnb_prediction = []\n",
    "    print(\"model \", a, \": Naive Bayes alpha = \" + str(alpha[a]))\n",
    "    test_count = 0\n",
    "    mnb = MultinomialNB(alpha=alpha[a], class_prior=None, fit_prior=True)\n",
    "    for train_idx, test_idx in kf.split(X):\n",
    "        trainX = X[train_idx]\n",
    "        trainY = Y[train_idx]\n",
    "        testX = X[test_idx]\n",
    "        testY = Y[test_idx]\n",
    "        truth.append(testY)\n",
    "        mnb.fit(trainX, trainY)\n",
    "        Y_hat = mnb.predict(testX)\n",
    "        mnb_prediction.append(Y_hat)\n",
    "        print(\"   Fold %d accuracy: %.2f %%\" % (fold, ((np.sum(Y_hat == testY)/len(testY)) * 100.0)))                        \n",
    "        fold += 1\n",
    "    truth = np.concatenate(truth, axis=0)    \n",
    "    mnb_prediction = np.concatenate(mnb_prediction, axis=0)\n",
    "    test_results = np.sum(mnb_prediction == truth)/len(truth)\n",
    "    print(\"     Overall test accuracy: %.2f %%\" % (test_results * 100))  \n",
    "    mnb = mnb.fit(X, Y)\n",
    "    Y_hat = mnb.predict(X)\n",
    "    train_results = np.sum(Y_hat == Y)/len(Y)\n",
    "    print(\"     Overall training accuracy: %.2f %%\" % (train_results * 100.0))  \n",
    "    results.append([train_results, test_results])   \n",
    "    cont.append([truth, mnb_prediction])"
   ]
  },
  {
   "cell_type": "code",
   "execution_count": 7,
   "metadata": {},
   "outputs": [
    {
     "data": {
      "image/png": "[encoded data removed]",
      "text/plain": [
       "<Figure size 432x288 with 1 Axes>"
      ]
     },
     "metadata": {},
     "output_type": "display_data"
    }
   ],
   "source": [
    "tracc = [item[0] for item in results]\n",
    "tstacc = [item[1] for item in results]\n",
    "\n",
    "trainAcc = plt.plot(alpha, tracc, '-b', label='Training Error')\n",
    "testACC = plt.plot(alpha, tstacc, '-g', label='Testing Error')\n",
    "plt.title(\"Multinomial Naive Bayes Accuracy versus Smoothing Model Parameter\")\n",
    "plt.ylabel(\"Accuracy\")\n",
    "plt.xlabel(\"Alpha\")\n",
    "plt.legend(loc=\"best\")\n",
    "plt.show(block=False)"
   ]
  },
  {
   "cell_type": "markdown",
   "metadata": {},
   "source": [
    "### Contingency Tables\n",
    "\n",
    "#### Let's look at the contingency tables\n",
    "\n",
    "#### 1) Can you calculate the Sensitivity, Specificity, PPV, NPV? "
   ]
  },
  {
   "cell_type": "code",
   "execution_count": 8,
   "metadata": {
    "scrolled": true
   },
   "outputs": [
    {
     "name": "stdout",
     "output_type": "stream",
     "text": [
      "Enter Best Model: 2\n",
      "\n",
      "Multinomial Naive Bayes\n",
      "       Other  PNA  Total\n",
      "Other    874  179   1053\n",
      "PNA      126  321    447\n",
      "Total   1000  500   1500\n",
      "\n"
     ]
    }
   ],
   "source": [
    "model = input(\"Enter Best Model: \")\n",
    "best = cont[int(model)]\n",
    "mnb_ct = pd.crosstab(best[1], best[0], margins=True)\n",
    "mnb_ct.columns = [\"Other\", \"PNA\", \"Total\"]\n",
    "mnb_ct.index = [\"Other\", \"PNA\", \"Total\"]\n",
    "print()\n",
    "print(\"Multinomial Naive Bayes\")\n",
    "print(mnb_ct)\n",
    "print()\n"
   ]
  },
  {
   "cell_type": "markdown",
   "metadata": {},
   "source": [
    "### Evaluation Statistics\n",
    "\n",
    "#### We will calculate some test statistics for our classifiers"
   ]
  },
  {
   "cell_type": "code",
   "execution_count": 9,
   "metadata": {},
   "outputs": [
    {
     "name": "stdout",
     "output_type": "stream",
     "text": [
      "Multinomial Naive Bayes: Sensitivity: 0.64200 Specificity: 0.87400 PPV: 0.71812 NPV: 0.83001 Accuracy: 0.79667\n"
     ]
    }
   ],
   "source": [
    "Sens = mnb_ct.iloc[1][1]/mnb_ct.iloc[2][1]\n",
    "Spec = mnb_ct.iloc[0][0]/mnb_ct.iloc[2][0]\n",
    "PPV = mnb_ct.iloc[1][1]/mnb_ct.iloc[1][2]\n",
    "NPV = mnb_ct.iloc[0][0]/mnb_ct.iloc[0][2]\n",
    "ACC = (mnb_ct.iloc[0][0] + mnb_ct.iloc[1][1]) / mnb_ct.iloc[2][2]\n",
    "print(\"Multinomial Naive Bayes: Sensitivity: %.5f Specificity: %.5f PPV: %.5f NPV: %.5f Accuracy: %.5f\" % (Sens, Spec, PPV, NPV, ACC))                                                                                      "
   ]
  },
  {
   "cell_type": "markdown",
   "metadata": {
    "collapsed": true
   },
   "source": [
    "### ROC Curve\n",
    "\n",
    "#### 1) So which classifier do you think is better?"
   ]
  },
  {
   "cell_type": "code",
   "execution_count": 10,
   "metadata": {},
   "outputs": [
    {
     "data": {
      "image/png": "[encoded data removed]",
      "text/plain": [
       "<matplotlib.figure.Figure at 0x7f6102e562e8>"
      ]
     },
     "metadata": {},
     "output_type": "display_data"
    },
    {
     "name": "stdout",
     "output_type": "stream",
     "text": [
      "AUC =  0.758\n"
     ]
    }
   ],
   "source": [
    "mnb_fpr, mnb_tpr, mnb_thresholds = roc_curve(best[0], best[1], pos_label=1)\n",
    "roc_auc = auc(mnb_fpr, mnb_tpr)\n",
    "plt.figure(1)\n",
    "plt.plot([0, 1], [0, 1], 'k--')\n",
    "plt.plot(mnb_fpr, mnb_tpr, label='Multinomial NB')\n",
    "plt.xlabel('False positive rate (1 - Specificity)')\n",
    "plt.ylabel('True Positive Rate (Sensitivity)')\n",
    "plt.title('ROC curve')\n",
    "plt.legend(loc='best')\n",
    "plt.show()\n",
    "print(\"AUC = \", roc_auc)"
   ]
  },
  {
   "cell_type": "code",
   "execution_count": null,
   "metadata": {
    "collapsed": true
   },
   "outputs": [],
   "source": []
  }
 ],
 "metadata": {
  "kernelspec": {
   "display_name": "Python 3",
   "language": "python",
   "name": "python3"
  },
  "language_info": {
   "codemirror_mode": {
    "name": "ipython",
    "version": 3
   },
   "file_extension": ".py",
   "mimetype": "text/x-python",
   "name": "python",
   "nbconvert_exporter": "python",
   "pygments_lexer": "ipython3",
   "version": "3.6.6"
  },
  "widgets": {
   "state": {},
   "version": "1.1.1"
  }
 },
 "nbformat": 4,
 "nbformat_minor": 1
}
